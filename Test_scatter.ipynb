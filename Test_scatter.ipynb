{
 "cells": [
  {
   "cell_type": "code",
   "execution_count": 1,
   "metadata": {},
   "outputs": [],
   "source": [
    "import Ebay_scapper as ES\r\n",
    "import numpy as np\r\n",
    "#import requests\r\n",
    "import pandas as pd\r\n",
    "import matplotlib.pyplot as plt\r\n",
    "from scipy import stats\r\n",
    "import datetime"
   ]
  },
  {
   "cell_type": "code",
   "execution_count": 2,
   "metadata": {},
   "outputs": [
    {
     "name": "stdout",
     "output_type": "stream",
     "text": [
      "False\n"
     ]
    },
    {
     "name": "stderr",
     "output_type": "stream",
     "text": [
      "d:\\Python_Scripts\\Ebay_srapper\\Ebay_scapper.py:199: GuessedAtParserWarning: No parser was explicitly specified, so I'm using the best available HTML parser for this system (\"html.parser\"). This usually isn't a problem, but if you run this code on another system, or in a different virtual environment, it may use a different parser and behave differently.\n",
      "\n",
      "The code that caused this warning is on line 199 of the file d:\\Python_Scripts\\Ebay_srapper\\Ebay_scapper.py. To get rid of this warning, pass the additional argument 'features=\"html.parser\"' to the BeautifulSoup constructor.\n",
      "\n",
      "  soup=BeautifulSoup(data)\n"
     ]
    },
    {
     "name": "stdout",
     "output_type": "stream",
     "text": [
      "63\n",
      "Almost go\n",
      "12\n",
      "28\n",
      "26\n",
      "Last o\n",
      "35\n",
      "Last o\n",
      "19+\n",
      "5+\n",
      "17\n",
      "5\n",
      "24\n",
      "4\n",
      "2\n",
      "12\n",
      "Last o\n",
      "4\n",
      "21\n",
      "7\n",
      "Last o\n",
      "Last o\n",
      "36\n",
      "34\n",
      "4\n",
      "3\n",
      "5\n",
      "8+\n",
      "Last o\n",
      "64\n",
      "16\n",
      "2\n",
      "29\n",
      "Last o\n",
      "8\n",
      "24\n",
      "12\n",
      "3\n",
      "6\n",
      "Last o\n",
      "6\n",
      "Last o\n",
      "47\n",
      "Last o\n",
      "3\n",
      "65\n",
      "5\n",
      "9\n",
      "2+\n",
      "2+\n",
      "2\n",
      "62\n",
      "5+\n",
      "Last o\n",
      "7\n",
      "15\n",
      "250\n",
      "True\n",
      "waiting for human help\n",
      "Security Measure\n",
      "51\n",
      "51\n",
      "51\n",
      "51\n",
      "22\n",
      "221\n"
     ]
    },
    {
     "ename": "NameError",
     "evalue": "name 'title' is not defined",
     "output_type": "error",
     "traceback": [
      "\u001b[1;31m---------------------------------------------------------------------------\u001b[0m",
      "\u001b[1;31mNameError\u001b[0m                                 Traceback (most recent call last)",
      "\u001b[1;32m<ipython-input-2-f204a3a4fadc>\u001b[0m in \u001b[0;36m<module>\u001b[1;34m\u001b[0m\n\u001b[0;32m     14\u001b[0m         \u001b[0mData\u001b[0m\u001b[1;33m=\u001b[0m\u001b[0mES\u001b[0m\u001b[1;33m.\u001b[0m\u001b[0mEbay_MarketData\u001b[0m\u001b[1;33m(\u001b[0m\u001b[0mURL\u001b[0m\u001b[1;33m,\u001b[0m\u001b[0mpage\u001b[0m\u001b[1;33m,\u001b[0m\u001b[0mbrowser\u001b[0m\u001b[1;33m,\u001b[0m\u001b[0msold\u001b[0m\u001b[1;33m=\u001b[0m\u001b[0msold\u001b[0m\u001b[1;33m)\u001b[0m\u001b[1;33m\u001b[0m\u001b[1;33m\u001b[0m\u001b[0m\n\u001b[0;32m     15\u001b[0m \u001b[1;33m\u001b[0m\u001b[0m\n\u001b[1;32m---> 16\u001b[1;33m     \u001b[0mtitle\u001b[0m\u001b[1;33m+=\u001b[0m\u001b[0mitem\u001b[0m\u001b[1;33m.\u001b[0m\u001b[0mreplace\u001b[0m\u001b[1;33m(\u001b[0m\u001b[1;34m\" \"\u001b[0m \u001b[1;33m,\u001b[0m\u001b[1;34m\"_\"\u001b[0m\u001b[1;33m)\u001b[0m\u001b[1;33m\u001b[0m\u001b[1;33m\u001b[0m\u001b[0m\n\u001b[0m\u001b[0;32m     17\u001b[0m     \u001b[1;32mif\u001b[0m \u001b[0msold\u001b[0m\u001b[1;33m:\u001b[0m\u001b[1;33m\u001b[0m\u001b[1;33m\u001b[0m\u001b[0m\n\u001b[0;32m     18\u001b[0m         \u001b[0mtitle\u001b[0m\u001b[1;33m+=\u001b[0m\u001b[1;34m\"_sold\"\u001b[0m\u001b[1;33m\u001b[0m\u001b[1;33m\u001b[0m\u001b[0m\n",
      "\u001b[1;31mNameError\u001b[0m: name 'title' is not defined"
     ]
    }
   ],
   "source": [
    "page=30\r\n",
    "pageitems=100\r\n",
    "sold=True\r\n",
    "Items=[\"Zero Two\",\"Shinobu Kochou\",\"re zero Rem\"] #,\"Lucy Heartfilia\",\"re zero emilia\",\"Mikasa Ackerman\",\"saber fate\",\"Rin Tohsaka\",\"Yuuki Asuna\"]\r\n",
    "browser=ES.start_browser()\r\n",
    "sold_dataset={}\r\n",
    "listing_dataset={}\r\n",
    "\r\n",
    "for item in Items:\r\n",
    "    title=\"EbayScarpper\"\r\n",
    "    item+=\" figure\"\r\n",
    "    for sold in [False,True]:\r\n",
    "        print(sold)\r\n",
    "        URL=ES.createUrl(item,pageitems=pageitems,sold=sold)\r\n",
    "        Data=ES.Ebay_MarketData(URL,page,browser,sold=sold)\r\n",
    "    \r\n",
    "    title+=item.replace(\" \" ,\"_\")\r\n",
    "    if sold:\r\n",
    "        title+=\"_sold\"\r\n",
    "        sold_dataset[item]=Data\r\n",
    "    else:\r\n",
    "        title+=\"_lisiting\"\r\n",
    "        listing_dataset[item]=Data\r\n",
    "    title+=f\"_{len(Data)}\"\r\n",
    "    Data.to_csv(title+\".csv\",index=False)\r\n",
    "\r\n"
   ]
  }
 ],
 "metadata": {
  "interpreter": {
   "hash": "52774b798c40528f530de7657fd1851e18ea3fd46ccdf10ced65da4d8da447ac"
  },
  "kernelspec": {
   "display_name": "Python 3.9.5 64-bit",
   "name": "python3"
  },
  "language_info": {
   "codemirror_mode": {
    "name": "ipython",
    "version": 3
   },
   "file_extension": ".py",
   "mimetype": "text/x-python",
   "name": "python",
   "nbconvert_exporter": "python",
   "pygments_lexer": "ipython3",
   "version": "3.9.5"
  },
  "orig_nbformat": 4
 },
 "nbformat": 4,
 "nbformat_minor": 2
}